{
 "cells": [
  {
   "cell_type": "code",
   "execution_count": 53,
   "metadata": {},
   "outputs": [
    {
     "name": "stdout",
     "output_type": "stream",
     "text": [
      "/Users/yannickflores/Perso Project/foreshadownba/foreshadownba-dashboard-monitoring\n"
     ]
    },
    {
     "name": "stderr",
     "output_type": "stream",
     "text": [
      "/Users/yannickflores/Library/Caches/pypoetry/virtualenvs/foreshadwownba-dashboard-monitoring-fyl18zkQ-py3.11/lib/python3.11/site-packages/IPython/core/magics/osm.py:417: UserWarning: This is now an optional IPython functionality, setting dhist requires you to install the `pickleshare` library.\n",
      "  self.shell.db['dhist'] = compress_dhist(dhist)[-100:]\n"
     ]
    }
   ],
   "source": [
    "%cd '/Users/yannickflores/Perso Project/foreshadownba/foreshadownba-dashboard-monitoring'"
   ]
  },
  {
   "cell_type": "code",
   "execution_count": 54,
   "metadata": {},
   "outputs": [],
   "source": [
    "import pandas as pd\n",
    "import numpy as np\n",
    "\n",
    "df = pd.read_csv(\"./dashboard/nba_games_inseasonn_w_pred.csv\")\n",
    "df = df[['id',\t'id_season',\t'game_date',\t'tm',\t'opp',\t'results',\t'prediction_value']]\n",
    "df['row_accuracy'] = np.where(df['results'] == df['prediction_value'], 1, 0)\n",
    "# df[df['tm']=='MIA']"
   ]
  },
  {
   "cell_type": "markdown",
   "metadata": {},
   "source": [
    "## Accuracy per day\n",
    "### First object thst we will display"
   ]
  },
  {
   "cell_type": "code",
   "execution_count": 55,
   "metadata": {},
   "outputs": [
    {
     "name": "stdout",
     "output_type": "stream",
     "text": [
      "    game_date  row_count  sum_row_accuracy  daily_accuracy\n",
      "0  2024-10-24          2                 2        1.000000\n",
      "1  2024-10-25         10                 6        0.600000\n",
      "2  2024-10-26         10                 7        0.700000\n",
      "3  2024-10-27          5                 2        0.400000\n",
      "4  2024-10-28         11                 8        0.727273\n",
      "..        ...        ...               ...             ...\n",
      "64 2025-01-01          8                 5        0.625000\n",
      "65 2025-01-02          6                 4        0.666667\n",
      "66 2025-01-03          9                 6        0.666667\n",
      "67 2025-01-04          9                 3        0.333333\n",
      "68 2025-01-05          6                 3        0.500000\n",
      "\n",
      "[69 rows x 4 columns]\n"
     ]
    }
   ],
   "source": [
    "# Convert 'game_date' to datetime\n",
    "df['game_date'] = pd.to_datetime(df['game_date'])\n",
    "\n",
    "# Perform the aggregation\n",
    "daily_accuracy = df.groupby('game_date').agg(\n",
    "    row_count=('id', 'count'),\n",
    "    sum_row_accuracy=('row_accuracy', 'sum')\n",
    ").reset_index()\n",
    "\n",
    "daily_accuracy['daily_accuracy'] = daily_accuracy['sum_row_accuracy'] / daily_accuracy['row_count']\n",
    "\n",
    "# Print the result\n",
    "print(daily_accuracy)"
   ]
  },
  {
   "cell_type": "markdown",
   "metadata": {},
   "source": [
    "# Accuracy for the current season\n",
    "## Second object"
   ]
  },
  {
   "cell_type": "code",
   "execution_count": 56,
   "metadata": {},
   "outputs": [
    {
     "name": "stdout",
     "output_type": "stream",
     "text": [
      "   id_season  row_count  sum_row_accuracy  season_accuracy\n",
      "0       2025        508               335         0.659449\n"
     ]
    }
   ],
   "source": [
    "# Convert 'game_date' to datetime\n",
    "\n",
    "# Perform the aggregation\n",
    "season_accuracy = df.groupby('id_season').agg(\n",
    "    row_count=('id', 'count'),\n",
    "    sum_row_accuracy=('row_accuracy', 'sum')\n",
    ").reset_index()\n",
    "\n",
    "season_accuracy['season_accuracy'] = season_accuracy['sum_row_accuracy'] / season_accuracy['row_count']\n",
    "\n",
    "\n",
    "# Print the result\n",
    "print(season_accuracy)"
   ]
  }
 ],
 "metadata": {
  "kernelspec": {
   "display_name": "foreshadwownba-dashboard-monitoring-fyl18zkQ-py3.11",
   "language": "python",
   "name": "python3"
  },
  "language_info": {
   "codemirror_mode": {
    "name": "ipython",
    "version": 3
   },
   "file_extension": ".py",
   "mimetype": "text/x-python",
   "name": "python",
   "nbconvert_exporter": "python",
   "pygments_lexer": "ipython3",
   "version": "3.11.9"
  }
 },
 "nbformat": 4,
 "nbformat_minor": 2
}
