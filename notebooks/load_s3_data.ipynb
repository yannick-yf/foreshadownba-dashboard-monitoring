{
 "cells": [
  {
   "cell_type": "code",
   "execution_count": 20,
   "metadata": {},
   "outputs": [],
   "source": [
    "import os\n",
    "import boto3\n",
    "from io import StringIO\n",
    "import pandas as pd\n"
   ]
  },
  {
   "cell_type": "code",
   "execution_count": 21,
   "metadata": {},
   "outputs": [],
   "source": [
    "my_profile_name = 'ipfy'\n",
    "os.environ['AWS_PROFILE'] = my_profile_name"
   ]
  },
  {
   "cell_type": "code",
   "execution_count": 22,
   "metadata": {},
   "outputs": [
    {
     "name": "stdout",
     "output_type": "stream",
     "text": [
      "{\n",
      "    \"UserId\": \"AIDA5P2UWLFC6EW3BZBS3\",\n",
      "    \"Account\": \"927353690437\",\n",
      "    \"Arn\": \"arn:aws:iam::927353690437:user/DevForeshadowNba\"\n",
      "}\n"
     ]
    }
   ],
   "source": [
    "!aws sts get-caller-identity"
   ]
  },
  {
   "cell_type": "code",
   "execution_count": 23,
   "metadata": {},
   "outputs": [],
   "source": [
    "# Initialize the S3 client\n",
    "s3_client = boto3.client('s3')\n",
    "\n",
    "bucket_name = 'foreshadownba'\n",
    "file_key = 'inference-pipeline-output/nba_games_inseasonn_w_pred.csv'"
   ]
  },
  {
   "cell_type": "code",
   "execution_count": 24,
   "metadata": {},
   "outputs": [],
   "source": [
    "# Download the file from S3 into a memory buffer\n",
    "response = s3_client.get_object(Bucket=bucket_name, Key=file_key)\n",
    "file_content = response['Body'].read().decode('utf-8')\n"
   ]
  },
  {
   "cell_type": "code",
   "execution_count": 29,
   "metadata": {},
   "outputs": [
    {
     "data": {
      "text/html": [
       "<div>\n",
       "<style scoped>\n",
       "    .dataframe tbody tr th:only-of-type {\n",
       "        vertical-align: middle;\n",
       "    }\n",
       "\n",
       "    .dataframe tbody tr th {\n",
       "        vertical-align: top;\n",
       "    }\n",
       "\n",
       "    .dataframe thead th {\n",
       "        text-align: right;\n",
       "    }\n",
       "</style>\n",
       "<table border=\"1\" class=\"dataframe\">\n",
       "  <thead>\n",
       "    <tr style=\"text-align: right;\">\n",
       "      <th></th>\n",
       "      <th>id</th>\n",
       "      <th>id_season</th>\n",
       "      <th>game_date</th>\n",
       "      <th>tm</th>\n",
       "      <th>opp</th>\n",
       "      <th>results</th>\n",
       "      <th>prediction_value</th>\n",
       "      <th>pred_results_1_line_game</th>\n",
       "      <th>prediction_proba_df_win</th>\n",
       "      <th>prediction_proba_df_loose</th>\n",
       "      <th>prediction_proba_df_win_opp</th>\n",
       "      <th>prediction_proba_df_loose_opp</th>\n",
       "    </tr>\n",
       "  </thead>\n",
       "  <tbody>\n",
       "    <tr>\n",
       "      <th>232</th>\n",
       "      <td>2025-01-14_DEN_DAL</td>\n",
       "      <td>2025</td>\n",
       "      <td>2025-01-14</td>\n",
       "      <td>DAL</td>\n",
       "      <td>DEN</td>\n",
       "      <td>0</td>\n",
       "      <td>1</td>\n",
       "      <td>1</td>\n",
       "      <td>0.586116</td>\n",
       "      <td>0.413884</td>\n",
       "      <td>0.440225</td>\n",
       "      <td>0.559775</td>\n",
       "    </tr>\n",
       "    <tr>\n",
       "      <th>110</th>\n",
       "      <td>2025-01-14_BRK_POR</td>\n",
       "      <td>2025</td>\n",
       "      <td>2025-01-14</td>\n",
       "      <td>BRK</td>\n",
       "      <td>POR</td>\n",
       "      <td>0</td>\n",
       "      <td>0</td>\n",
       "      <td>0</td>\n",
       "      <td>0.495745</td>\n",
       "      <td>0.504255</td>\n",
       "      <td>0.524515</td>\n",
       "      <td>0.475485</td>\n",
       "    </tr>\n",
       "    <tr>\n",
       "      <th>526</th>\n",
       "      <td>2025-01-14_OKC_PHI</td>\n",
       "      <td>2025</td>\n",
       "      <td>2025-01-14</td>\n",
       "      <td>OKC</td>\n",
       "      <td>PHI</td>\n",
       "      <td>0</td>\n",
       "      <td>1</td>\n",
       "      <td>1</td>\n",
       "      <td>0.778237</td>\n",
       "      <td>0.221763</td>\n",
       "      <td>0.230591</td>\n",
       "      <td>0.769409</td>\n",
       "    </tr>\n",
       "    <tr>\n",
       "      <th>196</th>\n",
       "      <td>2025-01-14_CLE_IND</td>\n",
       "      <td>2025</td>\n",
       "      <td>2025-01-14</td>\n",
       "      <td>CLE</td>\n",
       "      <td>IND</td>\n",
       "      <td>0</td>\n",
       "      <td>1</td>\n",
       "      <td>1</td>\n",
       "      <td>0.630253</td>\n",
       "      <td>0.369747</td>\n",
       "      <td>0.388959</td>\n",
       "      <td>0.611041</td>\n",
       "    </tr>\n",
       "    <tr>\n",
       "      <th>37</th>\n",
       "      <td>2025-01-14_PHO_ATL</td>\n",
       "      <td>2025</td>\n",
       "      <td>2025-01-14</td>\n",
       "      <td>ATL</td>\n",
       "      <td>PHO</td>\n",
       "      <td>0</td>\n",
       "      <td>0</td>\n",
       "      <td>0</td>\n",
       "      <td>0.470456</td>\n",
       "      <td>0.529544</td>\n",
       "      <td>0.530612</td>\n",
       "      <td>0.469388</td>\n",
       "    </tr>\n",
       "  </tbody>\n",
       "</table>\n",
       "</div>"
      ],
      "text/plain": [
       "                     id  id_season   game_date   tm  opp  results  \\\n",
       "232  2025-01-14_DEN_DAL       2025  2025-01-14  DAL  DEN        0   \n",
       "110  2025-01-14_BRK_POR       2025  2025-01-14  BRK  POR        0   \n",
       "526  2025-01-14_OKC_PHI       2025  2025-01-14  OKC  PHI        0   \n",
       "196  2025-01-14_CLE_IND       2025  2025-01-14  CLE  IND        0   \n",
       "37   2025-01-14_PHO_ATL       2025  2025-01-14  ATL  PHO        0   \n",
       "\n",
       "     prediction_value  pred_results_1_line_game  prediction_proba_df_win  \\\n",
       "232                 1                         1                 0.586116   \n",
       "110                 0                         0                 0.495745   \n",
       "526                 1                         1                 0.778237   \n",
       "196                 1                         1                 0.630253   \n",
       "37                  0                         0                 0.470456   \n",
       "\n",
       "     prediction_proba_df_loose  prediction_proba_df_win_opp  \\\n",
       "232                   0.413884                     0.440225   \n",
       "110                   0.504255                     0.524515   \n",
       "526                   0.221763                     0.230591   \n",
       "196                   0.369747                     0.388959   \n",
       "37                    0.529544                     0.530612   \n",
       "\n",
       "     prediction_proba_df_loose_opp  \n",
       "232                       0.559775  \n",
       "110                       0.475485  \n",
       "526                       0.769409  \n",
       "196                       0.611041  \n",
       "37                        0.469388  "
      ]
     },
     "execution_count": 29,
     "metadata": {},
     "output_type": "execute_result"
    }
   ],
   "source": [
    "\n",
    "# Read the CSV content into a pandas DataFrame\n",
    "test = pd.read_csv(StringIO(file_content))\n",
    "test.sort_values(by='game_date', ascending=False).head()"
   ]
  }
 ],
 "metadata": {
  "kernelspec": {
   "display_name": "foreshadwownba-dashboard-monitoring-fyl18zkQ-py3.11",
   "language": "python",
   "name": "python3"
  },
  "language_info": {
   "codemirror_mode": {
    "name": "ipython",
    "version": 3
   },
   "file_extension": ".py",
   "mimetype": "text/x-python",
   "name": "python",
   "nbconvert_exporter": "python",
   "pygments_lexer": "ipython3",
   "version": "3.11.9"
  }
 },
 "nbformat": 4,
 "nbformat_minor": 2
}
